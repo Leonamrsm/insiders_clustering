{
 "cells": [
  {
   "cell_type": "markdown",
   "id": "3b8433ad",
   "metadata": {},
   "source": [
    "# High Value Customer Identification"
   ]
  },
  {
   "cell_type": "markdown",
   "id": "ccc576f1",
   "metadata": {},
   "source": [
    "## Solution Planning - IOT"
   ]
  },
  {
   "cell_type": "markdown",
   "id": "ccc69fed",
   "metadata": {},
   "source": [
    "### Inputs"
   ]
  },
  {
   "cell_type": "markdown",
   "id": "be984d2e",
   "metadata": {},
   "source": [
    "1. Business problem\n",
    "    - Select the most valuable clients to integrate with a loyalty program.\n",
    "\n",
    "2. Data set\n",
    "    - Sales of an online e-commerce during the period of a year."
   ]
  },
  {
   "cell_type": "markdown",
   "id": "9a2a2dad",
   "metadata": {},
   "source": [
    "### Output"
   ]
  },
  {
   "cell_type": "markdown",
   "id": "728b2aad",
   "metadata": {},
   "source": [
    "1. The indication of people who will be part of the insiders program.\n",
    "    - List: client_id | is_insider |\n",
    "\n",
    "    Example:\n",
    "        10451 | yes\n",
    "        10452 | no\n",
    "\n",
    "2. Report with Business Questions\n",
    "    - Who are the eligible people to join the Insiders program?\n",
    "    - How many clients will be part of the group?\n",
    "    - What are the main characteristics of these clients?\n",
    "    - What is the revenue contribution percentage coming from Insiders?\n",
    "    - What is the revenue forecast for this group in the upcoming months?\n",
    "    - What are the conditions for someone to be eligible for the Insiders program?\n",
    "    - What are the conditions for someone to be removed from the Insiders program?\n",
    "    - What guarantees that the Insiders program performs better than the rest of the client base?\n",
    "    - What actions can the marketing team take to increase revenue?m"
   ]
  },
  {
   "cell_type": "markdown",
   "id": "003e5b5b",
   "metadata": {},
   "source": [
    "### Tasks"
   ]
  },
  {
   "cell_type": "markdown",
   "id": "5f458d46",
   "metadata": {},
   "source": [
    "#### 1. Who are the eligible people to join the Insiders program?\n",
    "\n",
    "* **What defines an eligible customer? Who are the clients with the highest value?**\n",
    "\n",
    "    * **Financial Metrics (Invoicing):**\n",
    "        * High Average Ticket (e.g., 1, 10, 50, 34 - *These seem to be placeholder values or examples, actual thresholds to be determined*)\n",
    "        * High Lifetime Value (LTV)\n",
    "        * Low Recency (i.e., purchased recently)\n",
    "        * High Basket Size (number of items per purchase)\n",
    "        * Low Churn Probability\n",
    "        * High Purchase Propensity (likelihood to buy)\n",
    "\n",
    "    * **Cost Metrics:**\n",
    "        * Low Return Rate\n",
    "\n",
    "    * **Shopping Experience:**\n",
    "        * High Average Ratings/Reviews\n",
    "\n",
    "---\n",
    "\n",
    "#### 2. How many clients will be part of the group?\n",
    "\n",
    "* Determine the percentage of the total client base that will be included in the Insiders group.\n",
    "\n",
    "---\n",
    "\n",
    "#### 3. What are the main characteristics of these clients?\n",
    "\n",
    "* **Customer Demographics/Attributes:**\n",
    "    * Location\n",
    "    * Age (if available)\n",
    "\n",
    "* **Consumption Characteristics:**\n",
    "    * Attributes derived from Clustering (e.g., product categories purchased, frequency patterns, preferred channels)\n",
    "\n",
    "---\n",
    "\n",
    "#### 4. What is the revenue contribution percentage coming from Insiders?\n",
    "\n",
    "* Calculate the total annual revenue.\n",
    "* Calculate the revenue generated specifically by the Insiders group.\n",
    "* Determine the percentage contribution of the Insiders group to the total revenue.\n",
    "\n",
    "---\n",
    "\n",
    "#### 5. What is the revenue forecast for this group in the upcoming months?\n",
    "\n",
    "* Calculate the LTV of the Insiders group.\n",
    "* Perform Cohort Analysis to understand revenue trends and predict future performance.\n",
    "\n",
    "---\n",
    "\n",
    "#### 6. What are the conditions for someone to be eligible for the Insiders program?\n",
    "\n",
    "* **Periodicity:** Define the review frequency (e.g., every 1 month, every 3 months) for eligibility.\n",
    "* **Eligibility Criteria:** A person needs to be similar to or closely resemble an existing member of the Insiders group based on defined attributes.\n",
    "\n",
    "---\n",
    "\n",
    "#### 7. What are the conditions for someone to be removed from the Insiders program?\n",
    "\n",
    "* **Periodicity:** Define the review frequency (e.g., every 1 month, every 3 months) for removal.\n",
    "* **Removal Criteria:** A person needs to become dissimilar to or not resemble an existing member of the Insiders group based on defined attributes.\n",
    "\n",
    "---\n",
    "\n",
    "#### 8. What guarantees that the Insiders program performs better than the rest of the client base?\n",
    "\n",
    "* **A/B Testing:** Design and execute A/B tests comparing the Insiders group's performance against a control group.\n",
    "* **Hypothesis Testing:** Formulate and test statistical hypotheses to validate the program's effectiveness.\n",
    "* **Bayesian A/B Testing:** Utilize Bayesian methods for more robust A/B test analysis.\n",
    "\n",
    "---\n",
    "\n",
    "#### 9. What actions can the marketing team take to increase revenue?\n",
    "\n",
    "* **Discounts:** Offer exclusive discounts to Insiders.\n",
    "* **Purchase Preference:** Provide early access or priority for new products/sales.\n",
    "* **Shipping Benefits:** Offer free or expedited shipping."
   ]
  },
  {
   "cell_type": "markdown",
   "id": "bbe227a7",
   "metadata": {},
   "source": [
    "### Benchmark de Soluções"
   ]
  },
  {
   "cell_type": "markdown",
   "id": "b2ec23a5",
   "metadata": {},
   "source": [
    "Define MVP and other possible solutions\n",
    "\n",
    "### RFM Model: Customer Segmentation\n",
    "\n",
    "\n",
    "\n",
    "        "
   ]
  }
 ],
 "metadata": {
  "kernelspec": {
   "display_name": "clustering_clients",
   "language": "python",
   "name": "python3"
  },
  "language_info": {
   "codemirror_mode": {
    "name": "ipython",
    "version": 3
   },
   "file_extension": ".py",
   "mimetype": "text/x-python",
   "name": "python",
   "nbconvert_exporter": "python",
   "pygments_lexer": "ipython3",
   "version": "3.9.23"
  }
 },
 "nbformat": 4,
 "nbformat_minor": 5
}
